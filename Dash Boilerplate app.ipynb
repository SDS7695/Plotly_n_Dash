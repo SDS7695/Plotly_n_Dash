{
 "cells": [
  {
   "cell_type": "markdown",
   "metadata": {},
   "source": [
    "### Dashboards with Dash\n",
    "Dash is a library used to create dashboards purely in python which are served as web aplications that we can deploy and not static .html file. we can connect and interact with dashboards. Dash apps are mainly composed of two parts:\n",
    "\n",
    "- First part is the layout of the app and it describes what the application looks like.\n",
    "- The second part describes the interactivity of the application i.e. callbacks.\n",
    "\n",
    "Install dash and start working by below command: **pip install dash**"
   ]
  },
  {
   "cell_type": "code",
   "execution_count": 1,
   "metadata": {},
   "outputs": [],
   "source": [
    "# imports \n",
    "import requests\n",
    "import json\n",
    "import pandas as pd\n",
    "import numpy as np \n",
    "\n",
    "import dash\n",
    "import dash_core_components as dcc\n",
    "import dash_html_components as html\n",
    "from dash.dependencies import Input, Output, State"
   ]
  },
  {
   "cell_type": "code",
   "execution_count": 2,
   "metadata": {},
   "outputs": [
    {
     "data": {
      "text/plain": [
       "\"\\nTemplate for creating a dashboard will be as below:\\n\\napp = dash.Dash()\\napp.layout = html.Div(children=[html.H1(),                                  # adding html components\\n                                html.Div(),\\n                                dcc.Graph(id='123456',                      # adding figure to dashboard\\n                                          figure={'data':[{1},{2},{3}],\\n                                                  'layout':{}\\n                                                  }\\n                                          )\\n                                ] \\n                        )\\n\\napp.run_server()\\n\\n\""
      ]
     },
     "execution_count": 2,
     "metadata": {},
     "output_type": "execute_result"
    }
   ],
   "source": [
    "\n",
    "'''\n",
    "Template for creating a dashboard will be as below:\n",
    "\n",
    "app = dash.Dash()\n",
    "app.layout = html.Div(children=[html.H1(),                                  # adding html components\n",
    "                                html.Div(),\n",
    "                                dcc.Graph(id='123456',                      # adding figure to dashboard\n",
    "                                          figure={'data':[{1},{2},{3}],\n",
    "                                                  'layout':{}\n",
    "                                                  }\n",
    "                                          )\n",
    "                                ] \n",
    "                        )\n",
    "\n",
    "app.run_server()\n",
    "\n",
    "'''"
   ]
  },
  {
   "cell_type": "markdown",
   "metadata": {},
   "source": [
    "### Static Dash app"
   ]
  },
  {
   "cell_type": "code",
   "execution_count": 3,
   "metadata": {},
   "outputs": [
    {
     "name": "stdout",
     "output_type": "stream",
     "text": [
      "Dash is running on http://127.0.0.1:8050/\n",
      "\n",
      " * Serving Flask app \"__main__\" (lazy loading)\n",
      " * Environment: production\n",
      "   WARNING: This is a development server. Do not use it in a production deployment.\n",
      "   Use a production WSGI server instead.\n",
      " * Debug mode: off\n"
     ]
    },
    {
     "name": "stderr",
     "output_type": "stream",
     "text": [
      " * Running on http://127.0.0.1:8050/ (Press CTRL+C to quit)\n"
     ]
    }
   ],
   "source": [
    "# Initializing Dash app\n",
    "app = dash.Dash()\n",
    "\n",
    "# Creating App Layout\n",
    "app.layout = html.Div(children=[html.H1('My First Dashboard'),\n",
    "                                dcc.Graph(id='123456',\n",
    "                                          figure={'data' : [{'x':[1,2,3],'y':[2,3,5],'type':'bar','name':'Bar 1'},\n",
    "                                                            {'x':[1,2,3],'y':[5,4,3],'type':'bar','name':'Bar 2'}],\n",
    "                                                  'layout':{'title':'BAR PLOTS'}\n",
    "                                                 })])\n",
    "\n",
    "# Run the app\n",
    "app.run_server()"
   ]
  },
  {
   "cell_type": "code",
   "execution_count": null,
   "metadata": {},
   "outputs": [],
   "source": []
  },
  {
   "cell_type": "markdown",
   "metadata": {},
   "source": [
    "### Dash App fetching data from RESTAPI "
   ]
  },
  {
   "cell_type": "code",
   "execution_count": 4,
   "metadata": {},
   "outputs": [],
   "source": [
    "url='http://localhost:5000/endpoint1'\n",
    "data = json.loads(requests.get(url).text)"
   ]
  },
  {
   "cell_type": "code",
   "execution_count": 5,
   "metadata": {},
   "outputs": [
    {
     "name": "stdout",
     "output_type": "stream",
     "text": [
      "Dash is running on http://127.0.0.1:8050/\n",
      "\n",
      "Dash is running on http://127.0.0.1:8050/\n",
      "\n",
      " * Serving Flask app \"__main__\" (lazy loading)\n",
      " * Environment: production\n",
      "   WARNING: This is a development server. Do not use it in a production deployment.\n",
      "   Use a production WSGI server instead.\n",
      " * Debug mode: off\n"
     ]
    },
    {
     "name": "stderr",
     "output_type": "stream",
     "text": [
      " * Running on http://127.0.0.1:8050/ (Press CTRL+C to quit)\n"
     ]
    }
   ],
   "source": [
    "# Initializing Dash app\n",
    "app = dash.Dash()\n",
    "\n",
    "# Creating App Layout\n",
    "app.layout = html.Div(children=[html.H1(data['text']),\n",
    "                                dcc.Graph(id='123456',\n",
    "                                          figure={'data' : [{'x':[1,2,3],'y':[2,3,5],'type':'bar','name':'Bar 1'},\n",
    "                                                            {'x':[1,2,3],'y':[5,4,3],'type':'bar','name':'Bar 2'}],\n",
    "                                                  'layout':{'title':'BAR PLOTS'}\n",
    "                                                 })])\n",
    "\n",
    "# Run the app\n",
    "app.run_server()"
   ]
  },
  {
   "cell_type": "markdown",
   "metadata": {},
   "source": [
    "### DASH App with callbacks"
   ]
  },
  {
   "cell_type": "code",
   "execution_count": 6,
   "metadata": {},
   "outputs": [
    {
     "name": "stdout",
     "output_type": "stream",
     "text": [
      "Dash is running on http://127.0.0.1:8050/\n",
      "\n",
      "Dash is running on http://127.0.0.1:8050/\n",
      "\n",
      "Dash is running on http://127.0.0.1:8050/\n",
      "\n",
      " * Serving Flask app \"__main__\" (lazy loading)\n",
      " * Environment: production\n",
      "   WARNING: This is a development server. Do not use it in a production deployment.\n",
      "   Use a production WSGI server instead.\n",
      " * Debug mode: off\n"
     ]
    },
    {
     "name": "stderr",
     "output_type": "stream",
     "text": [
      " * Running on http://127.0.0.1:8050/ (Press CTRL+C to quit)\n"
     ]
    }
   ],
   "source": [
    "# Initializing app\n",
    "app = dash.Dash()\n",
    "\n",
    "# Creating app layout\n",
    "app.layout = html.Div([\n",
    "    # Input Area\n",
    "    dcc.Input(id='my-id', value='initial value', type='text'),\n",
    "    \n",
    "    # Division to display output from callback \n",
    "    html.Div(id='my-div')\n",
    "])\n",
    "\n",
    "# Defining callback\n",
    "@app.callback(\n",
    "    Output(component_id='my-div', component_property='children'),\n",
    "    [Input(component_id='my-id', component_property='value')]\n",
    ")\n",
    "def update_output_div(input_value):\n",
    "    return f'You\\'ve entered \"{input_value}\"'\n",
    "\n",
    "app.run_server()"
   ]
  },
  {
   "cell_type": "code",
   "execution_count": null,
   "metadata": {},
   "outputs": [],
   "source": []
  }
 ],
 "metadata": {
  "kernelspec": {
   "display_name": "Python 3",
   "language": "python",
   "name": "python3"
  },
  "language_info": {
   "codemirror_mode": {
    "name": "ipython",
    "version": 3
   },
   "file_extension": ".py",
   "mimetype": "text/x-python",
   "name": "python",
   "nbconvert_exporter": "python",
   "pygments_lexer": "ipython3",
   "version": "3.7.3"
  }
 },
 "nbformat": 4,
 "nbformat_minor": 4
}
