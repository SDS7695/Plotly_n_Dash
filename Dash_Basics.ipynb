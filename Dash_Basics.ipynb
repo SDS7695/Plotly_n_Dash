{
 "cells": [
  {
   "cell_type": "markdown",
   "metadata": {},
   "source": [
    "# Dashboards with Dash\n",
    "\n",
    "Dash is a library used to create dashboards purely in python which are served as web aplications that we can deploy and not static .html file. we can connect and interact with dashboards. Dash apps are mainly composed of two parts:\n",
    "- First part is the layout of the app and it describes what the application looks like. \n",
    "- The second part describes the interactivity of the application.\n",
    "\n",
    "Install dash and start working by below command:\n",
    "**pip install dash**"
   ]
  },
  {
   "cell_type": "code",
   "execution_count": 1,
   "metadata": {},
   "outputs": [],
   "source": [
    "# imports \n",
    "\n",
    "import pandas as pd\n",
    "import numpy as np \n",
    "\n",
    "import dash\n",
    "import dash_core_components as dcc\n",
    "import dash_html_components as html\n",
    "from dash.dependencies import Input, Output, State\n",
    "\n",
    "import plotly.graph_objs as go\n",
    "import plotly.express as px"
   ]
  },
  {
   "cell_type": "code",
   "execution_count": 2,
   "metadata": {},
   "outputs": [
    {
     "data": {
      "text/plain": [
       "\"\\nTemplate for creating a dashboard will be as below:\\n\\napp = dash.Dash()\\napp.layout = html.Div(children=[html.H1(),                                  # adding html components\\n                                html.Div(),\\n                                dcc.Graph(id='123456',                      # adding figure to dashboard\\n                                          figure={'data':[{1},{2},{3}],\\n                                                  'layout':{}\\n                                                  }\\n                                          )\\n                                ] \\n                        )\\n\\napp.run_server()\\n\\n\""
      ]
     },
     "execution_count": 2,
     "metadata": {},
     "output_type": "execute_result"
    }
   ],
   "source": [
    "'''\n",
    "Template for creating a dashboard will be as below:\n",
    "\n",
    "app = dash.Dash()\n",
    "app.layout = html.Div(children=[html.H1(),                                  # adding html components\n",
    "                                html.Div(),\n",
    "                                dcc.Graph(id='123456',                      # adding figure to dashboard\n",
    "                                          figure={'data':[{1},{2},{3}],\n",
    "                                                  'layout':{}\n",
    "                                                  }\n",
    "                                          )\n",
    "                                ] \n",
    "                        )\n",
    "\n",
    "app.run_server()\n",
    "\n",
    "'''"
   ]
  },
  {
   "cell_type": "markdown",
   "metadata": {},
   "source": [
    "### Simple Dashboard"
   ]
  },
  {
   "cell_type": "code",
   "execution_count": 3,
   "metadata": {},
   "outputs": [
    {
     "name": "stdout",
     "output_type": "stream",
     "text": [
      " * Serving Flask app \"__main__\" (lazy loading)\n",
      " * Environment: production\n",
      "   WARNING: Do not use the development server in a production environment.\n",
      "   Use a production WSGI server instead.\n",
      " * Debug mode: off\n"
     ]
    },
    {
     "name": "stderr",
     "output_type": "stream",
     "text": [
      " * Running on http://127.0.0.1:8050/ (Press CTRL+C to quit)\n"
     ]
    }
   ],
   "source": [
    "app = dash.Dash()\n",
    "\n",
    "app.layout = html.Div(children=[html.H1('My First Dashboard'),\n",
    "                                dcc.Graph(id='123456',\n",
    "                                          figure={'data' : [{'x':[1,2,3],'y':[2,3,5],'type':'bar','name':'Bar 1'},\n",
    "                                                            {'x':[1,2,3],'y':[5,4,3],'type':'bar','name':'Bar 2'}],\n",
    "                                                  'layout':{'title':'BAR PLOTS'}\n",
    "                                                 })])\n",
    "\n",
    "app.run_server()"
   ]
  },
  {
   "cell_type": "markdown",
   "metadata": {},
   "source": [
    "### Styling Dashboards\n",
    "\n",
    "Defining extra layout params"
   ]
  },
  {
   "cell_type": "code",
   "execution_count": 4,
   "metadata": {},
   "outputs": [
    {
     "name": "stdout",
     "output_type": "stream",
     "text": [
      " * Serving Flask app \"__main__\" (lazy loading)\n",
      " * Environment: production\n",
      "   WARNING: Do not use the development server in a production environment.\n",
      "   Use a production WSGI server instead.\n",
      " * Debug mode: off\n"
     ]
    },
    {
     "name": "stderr",
     "output_type": "stream",
     "text": [
      " * Running on http://127.0.0.1:8050/ (Press CTRL+C to quit)\n"
     ]
    }
   ],
   "source": [
    "app = dash.Dash()\n",
    "\n",
    "app.layout = html.Div(children=[html.H1('My First Dashboard',style={'textAlign': 'center',\n",
    "                                                                     'color': 'blue'}),\n",
    "                                dcc.Graph(id='123456',\n",
    "                                          figure={'data' : [{'x':[1,2,3],'y':[2,3,5],'type':'bar','name':'Bar 1'},\n",
    "                                                            {'x':[1,2,3],'y':[5,4,3],'type':'bar','name':'Bar 2'}],\n",
    "                                                  'layout':{'title':'BAR PLOTS',\n",
    "                                                            'plot_bgcolor':'green',\n",
    "                                                            'paper_bgcolor':'lightgreen',\n",
    "                                                            'font':{'color':'orange'}\n",
    "                                                           }\n",
    "                                                 })] )\n",
    "\n",
    "app.run_server()"
   ]
  },
  {
   "cell_type": "markdown",
   "metadata": {},
   "source": [
    "### Inserting Plotly graphs into Dashboards"
   ]
  },
  {
   "cell_type": "code",
   "execution_count": 5,
   "metadata": {},
   "outputs": [
    {
     "name": "stdout",
     "output_type": "stream",
     "text": [
      " * Serving Flask app \"__main__\" (lazy loading)\n",
      " * Environment: production\n",
      "   WARNING: Do not use the development server in a production environment.\n",
      "   Use a production WSGI server instead.\n",
      " * Debug mode: off\n"
     ]
    },
    {
     "name": "stderr",
     "output_type": "stream",
     "text": [
      " * Running on http://127.0.0.1:8050/ (Press CTRL+C to quit)\n"
     ]
    }
   ],
   "source": [
    "app = dash.Dash()\n",
    "\n",
    "x = np.random.randint(1,100,500)\n",
    "y = np.random.randint(1,100,500)\n",
    "\n",
    "data = [go.Scatter(x=x,y=y,mode='markers',marker_color='green')]\n",
    "layout = go.Layout(title={'text':'Plotly Scatter Plot','x':0.5},\n",
    "                   xaxis={'title':'X Axis of the plot'})\n",
    "\n",
    "app.layout = html.Div(children=[html.H1('Dashboard with Plotly figures',style={'textAlign': 'center',\n",
    "                                                                     'color': 'blue'}),\n",
    "                # Plotting 2 plots in a single dashboard \n",
    "                                dcc.Graph(id='123456',figure={'data':data,\n",
    "                                                             'layout':layout}),\n",
    "                                \n",
    "                # Make sure id value is unique for every plot\n",
    "                                dcc.Graph(id='654321',figure={'data':data,\n",
    "                                                             'layout':layout})\n",
    "                               ])\n",
    "\n",
    "app.run_server()"
   ]
  },
  {
   "cell_type": "markdown",
   "metadata": {},
   "source": [
    "## DASH Core Components"
   ]
  },
  {
   "cell_type": "code",
   "execution_count": 6,
   "metadata": {},
   "outputs": [
    {
     "name": "stdout",
     "output_type": "stream",
     "text": [
      " * Serving Flask app \"__main__\" (lazy loading)\n",
      " * Environment: production\n",
      "   WARNING: Do not use the development server in a production environment.\n",
      "   Use a production WSGI server instead.\n",
      " * Debug mode: off\n"
     ]
    },
    {
     "name": "stderr",
     "output_type": "stream",
     "text": [
      " * Running on http://127.0.0.1:8050/ (Press CTRL+C to quit)\n"
     ]
    }
   ],
   "source": [
    "app = dash.Dash()\n",
    "\n",
    "app.layout = html.Div(children = [\n",
    "                \n",
    "                      html.H1('Dash Core Components',style={'textAlign':'center'}),\n",
    "                                  \n",
    "                      html.Label('Dropdown'),\n",
    "                      dcc.Dropdown(options=[{'label': 'New York City', 'value': 'NYC'},\n",
    "                                            {'label': 'Montréal', 'value': 'MTL'},\n",
    "                                            {'label': 'San Francisco', 'value': 'SF'}],\n",
    "                                    ),\n",
    "\n",
    "                      html.Label(' Multi Dropdown'),\n",
    "                      dcc.Dropdown(options=[{'label': 'New York City', 'value': 'NYC'},\n",
    "                                            {'label': 'Montréal', 'value': 'MTL'},\n",
    "                                            {'label': 'San Francisco', 'value': 'SF'}],\n",
    "                                    value='MTL',multi=True),\n",
    "\n",
    "                      html.Label('Check Boxes'),\n",
    "                      dcc.Checklist(options=[{'label': 'New York City', 'value': 'NYC'},\n",
    "                                            {'label': 'Montréal', 'value': 'MTL'},\n",
    "                                            {'label': 'San Francisco', 'value': 'SF'}],\n",
    "                                    value=['MTL', 'SF']),\n",
    "\n",
    "                      html.Label('Radio Items'),\n",
    "                      dcc.RadioItems(options=[{'label': 'New York City', 'value': 'NYC'},\n",
    "                                            {'label': 'Montréal', 'value': 'MTL'},\n",
    "                                            {'label': 'San Francisco', 'value': 'SF'}],\n",
    "                                    value='MTL',\n",
    "                                    labelStyle={'display': 'inline-block'}), # for horizontal radio/other items\n",
    "\n",
    "                      html.Label('Slider'),\n",
    "                      dcc.Slider(min=0,max=10,step=0.5,value=5,marks={i:'Label {}'.format(i) for i in range(10)}),\n",
    "\n",
    "                      html.Label('Range Slider'),\n",
    "                      dcc.RangeSlider(min=0,max=10,step=0.5,value=[3,6],marks={i:'Label {}'.format(i) for i in range(10)}),\n",
    "\n",
    "                      html.Label('INPUT : '),\n",
    "                      dcc.Input(placeholder='Enter a value...',type='text',value=''),\n",
    "\n",
    "                      html.Label(' Date Picker Single : '),\n",
    "                      dcc.DatePickerSingle(id='date-picker-single',date= pd.to_datetime('25/06/2000')),\n",
    "\n",
    "                      html.Label(' Date Picker Range : '),\n",
    "                      dcc.DatePickerRange(id='date-picker-range',start_date_placeholder_text='Start Date',end_date_placeholder_text='End Date'),\n",
    "\n",
    "                      html.Label('Markdown'),\n",
    "                      dcc.Markdown('''\n",
    "                                    #### Dash and Markdown\n",
    "\n",
    "                                    Dash supports [Markdown](http://commonmark.org/help).\n",
    "\n",
    "                                    Markdown is a simple way to write and format text.\n",
    "                                    It includes a syntax for things like **bold text** and *italics*,\n",
    "                                    [links](http://commonmark.org/help), inline `code` snippets, lists,\n",
    "                                    quotes, and more.\n",
    "                                    ''')\n",
    "                     ])\n",
    "\n",
    "app.run_server()"
   ]
  },
  {
   "cell_type": "markdown",
   "metadata": {},
   "source": [
    "### help() with dash"
   ]
  },
  {
   "cell_type": "code",
   "execution_count": 7,
   "metadata": {},
   "outputs": [
    {
     "name": "stdout",
     "output_type": "stream",
     "text": [
      "Help on class Div in module dash_html_components.Div:\n",
      "\n",
      "class Div(dash.development.base_component.Component)\n",
      " |  Div(children=None, id=undefined, n_clicks=undefined, n_clicks_timestamp=undefined, key=undefined, role=undefined, accessKey=undefined, className=undefined, contentEditable=undefined, contextMenu=undefined, dir=undefined, draggable=undefined, hidden=undefined, lang=undefined, spellCheck=undefined, style=undefined, tabIndex=undefined, title=undefined, loading_state=undefined, **kwargs)\n",
      " |  \n",
      " |  A Div component.\n",
      " |  Div is a wrapper for the <div> HTML5 element.\n",
      " |  For detailed attribute info see:\n",
      " |  https://developer.mozilla.org/en-US/docs/Web/HTML/Element/div\n",
      " |  \n",
      " |  Keyword arguments:\n",
      " |  - children (a list of or a singular dash component, string or number; optional): The children of this component\n",
      " |  - id (string; optional): The ID of this component, used to identify dash components\n",
      " |  in callbacks. The ID needs to be unique across all of the\n",
      " |  components in an app.\n",
      " |  - n_clicks (number; default 0): An integer that represents the number of times\n",
      " |  that this element has been clicked on.\n",
      " |  - n_clicks_timestamp (number; default -1): An integer that represents the time (in ms since 1970)\n",
      " |  at which n_clicks changed. This can be used to tell\n",
      " |  which button was changed most recently.\n",
      " |  - key (string; optional): A unique identifier for the component, used to improve\n",
      " |  performance by React.js while rendering components\n",
      " |  See https://reactjs.org/docs/lists-and-keys.html for more info\n",
      " |  - role (string; optional): The ARIA role attribute\n",
      " |  - data-* (string; optional): A wildcard data attribute\n",
      " |  - aria-* (string; optional): A wildcard aria attribute\n",
      " |  - accessKey (string; optional): Keyboard shortcut to activate or add focus to the element.\n",
      " |  - className (string; optional): Often used with CSS to style elements with common properties.\n",
      " |  - contentEditable (string; optional): Indicates whether the element's content is editable.\n",
      " |  - contextMenu (string; optional): Defines the ID of a <menu> element which will serve as the element's context menu.\n",
      " |  - dir (string; optional): Defines the text direction. Allowed values are ltr (Left-To-Right) or rtl (Right-To-Left)\n",
      " |  - draggable (string; optional): Defines whether the element can be dragged.\n",
      " |  - hidden (a value equal to: 'hidden', 'HIDDEN' | boolean; optional): Prevents rendering of given element, while keeping child elements, e.g. script elements, active.\n",
      " |  - lang (string; optional): Defines the language used in the element.\n",
      " |  - spellCheck (string; optional): Indicates whether spell checking is allowed for the element.\n",
      " |  - style (dict; optional): Defines CSS styles which will override styles previously set.\n",
      " |  - tabIndex (string; optional): Overrides the browser's default tab order and follows the one specified instead.\n",
      " |  - title (string; optional): Text to be displayed in a tooltip when hovering over the element.\n",
      " |  - loading_state (dict; optional): Object that holds the loading state object coming from dash-renderer. loading_state has the following type: dict containing keys 'is_loading', 'prop_name', 'component_name'.\n",
      " |  Those keys have the following types:\n",
      " |    - is_loading (boolean; optional): Determines if the component is loading or not\n",
      " |    - prop_name (string; optional): Holds which property is loading\n",
      " |    - component_name (string; optional): Holds the name of the component that is loading\n",
      " |  \n",
      " |  Method resolution order:\n",
      " |      Div\n",
      " |      dash.development.base_component.Component\n",
      " |      builtins.object\n",
      " |  \n",
      " |  Methods defined here:\n",
      " |  \n",
      " |  __init__ = wrapper(self, children=None, id=undefined, n_clicks=undefined, n_clicks_timestamp=undefined, key=undefined, role=undefined, accessKey=undefined, className=undefined, contentEditable=undefined, contextMenu=undefined, dir=undefined, draggable=undefined, hidden=undefined, lang=undefined, spellCheck=undefined, style=undefined, tabIndex=undefined, title=undefined, loading_state=undefined, **kwargs)\n",
      " |  \n",
      " |  ----------------------------------------------------------------------\n",
      " |  Data and other attributes defined here:\n",
      " |  \n",
      " |  __abstractmethods__ = frozenset()\n",
      " |  \n",
      " |  ----------------------------------------------------------------------\n",
      " |  Methods inherited from dash.development.base_component.Component:\n",
      " |  \n",
      " |  __delitem__(self, id)\n",
      " |      Delete items by ID in the tree of children.\n",
      " |  \n",
      " |  __getitem__(self, id)\n",
      " |      Recursively find the element with the given ID through the tree of\n",
      " |      children.\n",
      " |  \n",
      " |  __iter__(self)\n",
      " |      Yield IDs in the tree of children.\n",
      " |  \n",
      " |  __len__(self)\n",
      " |      Return the number of items in the tree.\n",
      " |  \n",
      " |  __repr__(self)\n",
      " |      Return repr(self).\n",
      " |  \n",
      " |  __setitem__(self, id, item)\n",
      " |      Set an element by its ID.\n",
      " |  \n",
      " |  to_plotly_json(self)\n",
      " |  \n",
      " |  ----------------------------------------------------------------------\n",
      " |  Data descriptors inherited from dash.development.base_component.Component:\n",
      " |  \n",
      " |  __dict__\n",
      " |      dictionary for instance variables (if defined)\n",
      " |  \n",
      " |  __weakref__\n",
      " |      list of weak references to the object (if defined)\n",
      " |  \n",
      " |  ----------------------------------------------------------------------\n",
      " |  Data and other attributes inherited from dash.development.base_component.Component:\n",
      " |  \n",
      " |  REQUIRED = required\n",
      " |  \n",
      " |  UNDEFINED = undefined\n",
      "\n"
     ]
    }
   ],
   "source": [
    "help(html.Div)"
   ]
  },
  {
   "cell_type": "markdown",
   "metadata": {},
   "source": [
    "## Callbacks"
   ]
  },
  {
   "cell_type": "markdown",
   "metadata": {},
   "source": [
    "Callbacks can be made by simply calling a decorator @app.callback(). This decorator takes in 3 input values viz.\n",
    "- Output \n",
    "- List of Input\n",
    "- List of State\n",
    "\n",
    "Each component mentioned above takes in two paramaeters:\n",
    "- component_id : id of the component from where the input/output/state is to be referred.\n",
    "- component_property : property of the component to be taken for calculation. Eg. children., value, figure, etc\n",
    "\n",
    "The decorator is then followed by a function under which the calculation to be done is defined."
   ]
  },
  {
   "cell_type": "code",
   "execution_count": 8,
   "metadata": {},
   "outputs": [
    {
     "name": "stdout",
     "output_type": "stream",
     "text": [
      " * Serving Flask app \"__main__\" (lazy loading)\n",
      " * Environment: production\n",
      "   WARNING: Do not use the development server in a production environment.\n",
      "   Use a production WSGI server instead.\n",
      " * Debug mode: off\n"
     ]
    },
    {
     "name": "stderr",
     "output_type": "stream",
     "text": [
      " * Running on http://127.0.0.1:8050/ (Press CTRL+C to quit)\n"
     ]
    }
   ],
   "source": [
    "app = dash.Dash()\n",
    "\n",
    "app.layout = html.Div([\n",
    "    dcc.Input(id='my-id', value='initial value', type='text'),\n",
    "    html.Div(id='my-div')\n",
    "])\n",
    "\n",
    "@app.callback(\n",
    "    Output(component_id='my-div', component_property='children'),\n",
    "    [Input(component_id='my-id', component_property='value')]\n",
    ")\n",
    "def update_output_div(input_value):\n",
    "    return 'You\\'ve entered \"{}\"'.format(input_value)\n",
    "\n",
    "app.run_server()"
   ]
  },
  {
   "cell_type": "code",
   "execution_count": 9,
   "metadata": {},
   "outputs": [
    {
     "name": "stdout",
     "output_type": "stream",
     "text": [
      " * Serving Flask app \"__main__\" (lazy loading)\n",
      " * Environment: production\n",
      "   WARNING: Do not use the development server in a production environment.\n",
      "   Use a production WSGI server instead.\n",
      " * Debug mode: off\n"
     ]
    },
    {
     "name": "stderr",
     "output_type": "stream",
     "text": [
      " * Running on http://127.0.0.1:8050/ (Press CTRL+C to quit)\n"
     ]
    }
   ],
   "source": [
    "df = px.data.gapminder()\n",
    "\n",
    "app = dash.Dash()\n",
    "\n",
    "# Defining dictionary for dropdown\n",
    "year_options = []\n",
    "for year in df['year'].unique():\n",
    "    year_options.append({'label':str(year),'value':year})\n",
    "\n",
    "app.layout = html.Div([dcc.Dropdown(id='year-picker',options=year_options,value=df['year'].min()),\n",
    "                       dcc.Graph(id='graph')])\n",
    "\n",
    "@app.callback(Output('graph', 'figure'), [Input('year-picker', 'value')])\n",
    "def update_figure(selected_year):\n",
    "    filtered_df = df[df['year'] == selected_year]\n",
    "    traces = []\n",
    "    for continent_name in filtered_df['continent'].unique():\n",
    "        df_by_continent = filtered_df[filtered_df['continent'] == continent_name]\n",
    "        traces.append(go.Scatter(\n",
    "            x=df_by_continent['gdpPercap'],\n",
    "            y=df_by_continent['lifeExp'],\n",
    "            text=df_by_continent['country'],\n",
    "            mode='markers',\n",
    "            opacity=0.7,\n",
    "            marker={'size': 15},\n",
    "            name=continent_name\n",
    "        ))\n",
    "\n",
    "    return {\n",
    "        'data': traces,\n",
    "        'layout': go.Layout(\n",
    "            xaxis={'type': 'log', 'title': 'GDP Per Capita'},\n",
    "            yaxis={'title': 'Life Expectancy'},\n",
    "            hovermode='closest'\n",
    "        )\n",
    "    }\n",
    "\n",
    "app.run_server()"
   ]
  },
  {
   "cell_type": "markdown",
   "metadata": {},
   "source": [
    "#### Multiple Input/Output callbacks\n",
    "- Multiple inputs can be provided as an element of input list\n",
    "- To get multiple outputs, we need to call decorator multiple times followed by the function."
   ]
  },
  {
   "cell_type": "code",
   "execution_count": 10,
   "metadata": {},
   "outputs": [
    {
     "name": "stdout",
     "output_type": "stream",
     "text": [
      " * Serving Flask app \"__main__\" (lazy loading)\n",
      " * Environment: production\n",
      "   WARNING: Do not use the development server in a production environment.\n",
      "   Use a production WSGI server instead.\n",
      " * Debug mode: off\n"
     ]
    },
    {
     "name": "stderr",
     "output_type": "stream",
     "text": [
      " * Running on http://127.0.0.1:8050/ (Press CTRL+C to quit)\n"
     ]
    }
   ],
   "source": [
    "df = px.data.gapminder()\n",
    "\n",
    "app = dash.Dash()\n",
    "\n",
    "# Defining dict for Drop down\n",
    "year_options = [{'label':str(i) , 'value': i} for i in df.year.unique()]\n",
    "cont_options = [{'label':str(i) , 'value': i} for i in df.continent.unique()]\n",
    "\n",
    "# Defining layout of the app\n",
    "app.layout = html.Div([\n",
    "                      html.Div([dcc.Dropdown(id='year-picker',  options=year_options,  value=df['year'].min())],\n",
    "                                style={'width':'48%','display':'inline-block'}),\n",
    "                      html.Div([dcc.Dropdown(id='cont-picker', options=cont_options, value=df['continent'].unique()[0])],\n",
    "                                style={'width':'48%','display':'inline-block'}), \n",
    "                       dcc.Graph(id='graph1',style={'width':'48%','display':'inline-block'}),\n",
    "                       dcc.Graph(id='graph2',style={'width':'48%','display':'inline-block'}),\n",
    "                       dcc.Graph(id='graph3')\n",
    "\n",
    "                    ])\n",
    "\n",
    "\n",
    "# OUTPUT 1\n",
    "@app.callback(Output('graph1', 'figure'), [Input('year-picker', 'value'),Input('cont-picker','value')])\n",
    "def update_figure(selected_year,sel_continent):\n",
    "    filtered_df = df[df['year'] == selected_year][df['continent']==sel_continent]\n",
    "    traces = []\n",
    "    for cntry in filtered_df['country'].unique():\n",
    "        df_by_country = filtered_df[filtered_df['country'] == cntry]\n",
    "        traces.append(go.Scatter(x=df_by_country['gdpPercap'],\n",
    "                                 y=df_by_country['lifeExp'],\n",
    "                                 text=df_by_country['country'],\n",
    "                                 mode='markers',\n",
    "                                 opacity=0.7,\n",
    "                                 marker={'size': 15}))\n",
    "\n",
    "    return {'data': traces,\n",
    "            'layout': go.Layout(xaxis={'type': 'log', 'title': 'GDP Per Capita'},\n",
    "                                yaxis={'title': 'Life Expectancy'},\n",
    "                                hovermode='closest',showlegend=False)}\n",
    "\n",
    "# OUTPUT 2\n",
    "@app.callback(Output('graph2', 'figure'), [Input('year-picker', 'value'),Input('cont-picker','value')])\n",
    "def update_figure(selected_year,sel_continent):\n",
    "    filtered_df = df[df['year'] == selected_year][df['continent']==sel_continent]\n",
    "    traces = []\n",
    "    for cntry in filtered_df['country'].unique():\n",
    "        df_by_country = filtered_df[filtered_df['country'] == cntry]\n",
    "        traces.append(go.Scatter(x=df_by_country['pop'],\n",
    "                                y=df_by_country['lifeExp'],\n",
    "                                text=df_by_country['country'],\n",
    "                                mode='markers',\n",
    "                                opacity=0.7,\n",
    "                                marker={'size': 15}))\n",
    "\n",
    "    return {'data': traces,\n",
    "            'layout': go.Layout(xaxis={'type': 'log', 'title': 'Population'},\n",
    "                                yaxis={'title': 'Life Expectancy'},\n",
    "                                hovermode='closest',showlegend=False)}\n",
    "\n",
    "# OUTPUT 3\n",
    "@app.callback(Output('graph3', 'figure'), [Input('year-picker', 'value'),Input('cont-picker','value')])\n",
    "def update_figure(selected_year,sel_continent):\n",
    "    filtered_df = df[df['year'] == selected_year][df['continent']==sel_continent]\n",
    "    traces = []\n",
    "    for cntry in filtered_df['country'].unique():\n",
    "        df_by_country = filtered_df[filtered_df['country'] == cntry]\n",
    "        traces.append(go.Scatter(x=df_by_country['gdpPercap'],\n",
    "                                y=df_by_country['pop'],\n",
    "                                text=df_by_country['country'],\n",
    "                                mode='markers',\n",
    "                                opacity=0.7,\n",
    "                                marker={'size': 15}))\n",
    "\n",
    "    return {'data': traces,\n",
    "            'layout': go.Layout(xaxis={'type': 'log', 'title': 'GDP Per Capita'},\n",
    "                                yaxis={'title': 'Population'},\n",
    "                                hovermode='closest',showlegend=False)}\n",
    "\n",
    "\n",
    "app.run_server()"
   ]
  },
  {
   "cell_type": "markdown",
   "metadata": {},
   "source": [
    "## Callbacks with Dash State\n",
    "\n",
    "State object doesn't lets the input to be reflected as output immediately rather than stores in a state and displays only when asked(eg. Submit button is pressed)"
   ]
  },
  {
   "cell_type": "code",
   "execution_count": 11,
   "metadata": {},
   "outputs": [
    {
     "name": "stdout",
     "output_type": "stream",
     "text": [
      " * Serving Flask app \"__main__\" (lazy loading)\n",
      " * Environment: production\n",
      "   WARNING: Do not use the development server in a production environment.\n",
      "   Use a production WSGI server instead.\n",
      " * Debug mode: off\n"
     ]
    },
    {
     "name": "stderr",
     "output_type": "stream",
     "text": [
      " * Running on http://127.0.0.1:8050/ (Press CTRL+C to quit)\n"
     ]
    }
   ],
   "source": [
    "from dash.dependencies import Input, Output, State\n",
    "\n",
    "app = dash.Dash()\n",
    "\n",
    "app.layout = html.Div([ dcc.Input(id='number-in', value=1, style={'fontSize':28}),\n",
    "             html.Button(id='submit-button', n_clicks=0, children='Submit', style={'fontSize':28}),\n",
    "             html.H1(id='number-out')\n",
    "                    ])\n",
    "\n",
    "@app.callback(\n",
    "    Output('number-out', 'children'),\n",
    "    [Input('submit-button', 'n_clicks')],\n",
    "    [State('number-in', 'value')])\n",
    "def output(n_clicks, number):\n",
    "    return \"You have typed {} and clicked submit button {} times\".format(number,n_clicks)\n",
    "\n",
    "app.run_server()"
   ]
  },
  {
   "cell_type": "markdown",
   "metadata": {},
   "source": [
    "## Interactivity in Dash\n",
    "\n",
    "Dash lets user to create webapps where diffrent plots in the graph interact with each ohter. This interactivity of plots can be based on the action of user using the app. Graphs can interact based users hovering, selecting, clicking or panning/zooming. Let's see each one by one. "
   ]
  },
  {
   "cell_type": "markdown",
   "metadata": {},
   "source": [
    "#### 1. Hoverdata\n",
    "\n",
    "We can get the other graphs updated when user hovers on one graph. Here we'll see that on hovering on different places data will update as along."
   ]
  },
  {
   "cell_type": "code",
   "execution_count": 13,
   "metadata": {},
   "outputs": [
    {
     "name": "stdout",
     "output_type": "stream",
     "text": [
      " * Serving Flask app \"__main__\" (lazy loading)\n",
      " * Environment: production\n",
      "   WARNING: Do not use the development server in a production environment.\n",
      "   Use a production WSGI server instead.\n",
      " * Debug mode: off\n"
     ]
    },
    {
     "name": "stderr",
     "output_type": "stream",
     "text": [
      " * Running on http://127.0.0.1:8050/ (Press CTRL+C to quit)\n"
     ]
    }
   ],
   "source": [
    "import json\n",
    "app = dash.Dash()\n",
    "app.layout = html.Div([\n",
    "                dcc.Graph(id='bar-plot',\n",
    "                          figure={'data' : [{'x':[1,2,3],'y':[2,3,5],'type':'bar','name':'Bar 1'},\n",
    "                                            {'x':[1,2,3],'y':[5,4,3],'type':'bar','name':'Bar 2'}],\n",
    "                                  'layout':{'title':'BAR PLOTS'}}),\n",
    "\n",
    "                 html.Pre(id='hoverdata', style={'border': 'thin lightgrey solid','overflow':'scroll'}),\n",
    "            ])\n",
    "\n",
    "\n",
    "@app.callback(\n",
    "    Output('hoverdata', 'children'),\n",
    "    [Input('bar-plot', 'hoverData')])\n",
    "def callback_image(hoverData):\n",
    "    return json.dumps(hoverData, indent=2)\n",
    "\n",
    "app.run_server()"
   ]
  },
  {
   "cell_type": "markdown",
   "metadata": {},
   "source": [
    "#### 2. Click Data\n",
    "\n",
    "We can get the other graphs updated when user clicks on one graph. \n",
    "\n",
    "To do this, change component property of Input to **clickData** . Now on hovering, no data will be displayed rather will be displayed on clicking."
   ]
  },
  {
   "cell_type": "code",
   "execution_count": 14,
   "metadata": {},
   "outputs": [
    {
     "name": "stdout",
     "output_type": "stream",
     "text": [
      " * Serving Flask app \"__main__\" (lazy loading)\n",
      " * Environment: production\n",
      "   WARNING: Do not use the development server in a production environment.\n",
      "   Use a production WSGI server instead.\n",
      " * Debug mode: off\n"
     ]
    },
    {
     "name": "stderr",
     "output_type": "stream",
     "text": [
      " * Running on http://127.0.0.1:8050/ (Press CTRL+C to quit)\n"
     ]
    }
   ],
   "source": [
    "import json\n",
    "app = dash.Dash()\n",
    "app.layout = html.Div([\n",
    "                dcc.Graph(id='bar-plot',\n",
    "                          figure={'data' : [{'x':[1,2,3],'y':[2,3,5],'type':'bar','name':'Bar 1'},\n",
    "                                            {'x':[1,2,3],'y':[5,4,3],'type':'bar','name':'Bar 2'}],\n",
    "                                  'layout':{'title':'BAR PLOTS'}}),\n",
    "\n",
    "                 html.Pre(id='clickdata', style={'border': 'thin lightgrey solid','overflow':'scroll'}),\n",
    "            ])\n",
    "\n",
    "\n",
    "@app.callback(\n",
    "    Output('clickdata', 'children'),\n",
    "    [Input('bar-plot', 'clickData')])\n",
    "def callback_image(hoverData):\n",
    "    return json.dumps(hoverData, indent=2)\n",
    "\n",
    "app.run_server()"
   ]
  },
  {
   "cell_type": "markdown",
   "metadata": {},
   "source": [
    "#### 3. Selected Data\n",
    "\n",
    "We can get the other graphs updated when user selects on one graph. \n",
    "\n",
    "To do this, change component property of Input to **selectedData** . Now on hovering/clicking, no data will be displayed rather will be displayed on selecting.\n",
    "\n",
    "**NOTE :** If we simply zoom on one graph, no output will be displayed. We need to either choose **Box Select** or **Lasso Select** and select the are to get output. Output will contain details of all the points coming inside the graph and range i.e. extreme points of the graph."
   ]
  },
  {
   "cell_type": "code",
   "execution_count": 15,
   "metadata": {},
   "outputs": [
    {
     "name": "stdout",
     "output_type": "stream",
     "text": [
      " * Serving Flask app \"__main__\" (lazy loading)\n",
      " * Environment: production\n",
      "   WARNING: Do not use the development server in a production environment.\n",
      "   Use a production WSGI server instead.\n",
      " * Debug mode: off\n"
     ]
    },
    {
     "name": "stderr",
     "output_type": "stream",
     "text": [
      " * Running on http://127.0.0.1:8050/ (Press CTRL+C to quit)\n"
     ]
    }
   ],
   "source": [
    "import json\n",
    "app = dash.Dash()\n",
    "app.layout = html.Div([\n",
    "                dcc.Graph(id='bar-plot',\n",
    "                          figure={'data' : [{'x':[1,2,3],'y':[2,3,5],'type':'bar','name':'Bar 1'},\n",
    "                                            {'x':[1,2,3],'y':[5,4,3],'type':'bar','name':'Bar 2'}],\n",
    "                                  'layout':{'title':'BAR PLOTS'}}),\n",
    "\n",
    "                 html.Pre(id='selectdata', style={'border': 'thin lightgrey solid','overflow':'scroll'}),\n",
    "            ])\n",
    "\n",
    "\n",
    "@app.callback(\n",
    "    Output('selectdata', 'children'),\n",
    "    [Input('bar-plot', 'selectedData')])\n",
    "def callback_image(hoverData):\n",
    "    return json.dumps(hoverData, indent=2)\n",
    "\n",
    "app.run_server()"
   ]
  },
  {
   "cell_type": "markdown",
   "metadata": {},
   "source": [
    "#### 4. Selected Data\n",
    "\n",
    "We can get the other graphs updated when user zooms/pans on one graph. \n",
    "\n",
    "To do this, change component property of Input to **relayoutData** . With the use of the relayout data we can synchgronize the zoom levels of the graph and hence taking the same example.\n",
    "\n",
    "In this example we are going to plot the same graph twice and will make the zoom on one graph to reflect on other graph. "
   ]
  },
  {
   "cell_type": "code",
   "execution_count": 16,
   "metadata": {},
   "outputs": [
    {
     "name": "stdout",
     "output_type": "stream",
     "text": [
      " * Serving Flask app \"__main__\" (lazy loading)\n",
      " * Environment: production\n",
      "   WARNING: Do not use the development server in a production environment.\n",
      "   Use a production WSGI server instead.\n",
      " * Debug mode: off\n"
     ]
    },
    {
     "name": "stderr",
     "output_type": "stream",
     "text": [
      " * Running on http://127.0.0.1:8050/ (Press CTRL+C to quit)\n"
     ]
    }
   ],
   "source": [
    "fig={'data':[go.Scatter(x=np.random.randint(1,100,10), y=np.random.randint(1,100,10),mode='markers')]}\n",
    "\n",
    "app=dash.Dash()\n",
    "\n",
    "app.layout = html.Div([\n",
    "    dcc.Graph(id='graph',figure=fig ),\n",
    "    html.Pre(id='relayout-data', style={'border': 'thin lightgrey solid','overflow':'scroll'}),\n",
    "    dcc.Graph(id='graph2', figure=fig )])\n",
    "\n",
    "@app.callback(\n",
    "    Output('relayout-data', 'children'),\n",
    "    [Input('graph', 'relayoutData')])\n",
    "def display_relayout_data(relayoutData):\n",
    "    return json.dumps(relayoutData, indent=2)\n",
    "\n",
    "\n",
    "@app.callback(Output('graph2', 'figure'),\n",
    "             [Input('graph', 'relayoutData')], \n",
    "             [State('graph2', 'figure')])\n",
    "def graph_event(select_data,  fig):\n",
    "    try:\n",
    "        fig['layout'] = {'xaxis':{'range':[select_data['xaxis.range[0]'],select_data['xaxis.range[1]']]},\n",
    "                         'yaxis':{'range':[select_data['yaxis.range[0]'],select_data['yaxis.range[1]']]}}\n",
    "    except KeyError:\n",
    "        fig['layout'] = {'xaxis':{'range':[0,100]},\n",
    "                         'yaxis':{'range':[0,100]}}\n",
    "        \n",
    "    return fig\n",
    "\n",
    "app.run_server()"
   ]
  },
  {
   "cell_type": "markdown",
   "metadata": {},
   "source": [
    "#### There are several other graphs which can be plotted using plotly whose details can be found at [Dash](https://dash.plotly.com/)"
   ]
  },
  {
   "cell_type": "code",
   "execution_count": null,
   "metadata": {},
   "outputs": [],
   "source": []
  }
 ],
 "metadata": {
  "kernelspec": {
   "display_name": "Python 3",
   "language": "python",
   "name": "python3"
  },
  "language_info": {
   "codemirror_mode": {
    "name": "ipython",
    "version": 3
   },
   "file_extension": ".py",
   "mimetype": "text/x-python",
   "name": "python",
   "nbconvert_exporter": "python",
   "pygments_lexer": "ipython3",
   "version": "3.7.3"
  }
 },
 "nbformat": 4,
 "nbformat_minor": 2
}
